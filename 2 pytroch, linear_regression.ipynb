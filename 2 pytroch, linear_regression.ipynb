{
  "nbformat": 4,
  "nbformat_minor": 0,
  "metadata": {
    "colab": {
      "provenance": []
    },
    "kernelspec": {
      "name": "python3",
      "display_name": "Python 3"
    }
  },
  "cells": [
    {
      "cell_type": "markdown",
      "metadata": {
        "id": "gRBe_quRlRdL"
      },
      "source": [
        "# PyTorch\n",
        "Biblioteka machine learning'owa, która dostarcza m. in. poniższe funkcjonalności:\n",
        "*   szybkie operacje na tensorach, na CPU/GPU\n",
        "*   automatyczne liczenie pochodnych - co jest niezbędne do trenowania sieci neuronowych\n",
        "*   implementacje typowych \"cegiełek\" do budowy sieci neuronowych jak: warstwy sieci, optymalizatory, zbiory danych itp.\n",
        "\n",
        "Materiały:\n",
        "*   [learn the basics](https://pytorch.org/tutorials/beginner/basics/intro.html)\n",
        "\n",
        "\n",
        "\n"
      ]
    },
    {
      "cell_type": "markdown",
      "metadata": {
        "id": "hn3wuXbdlaLD"
      },
      "source": [
        "## Przykłady"
      ]
    },
    {
      "cell_type": "code",
      "metadata": {
        "id": "Fxgeo-Dilq9q"
      },
      "source": [
        "import torch\n",
        "import numpy as np"
      ],
      "execution_count": 1,
      "outputs": []
    },
    {
      "cell_type": "code",
      "metadata": {
        "colab": {
          "base_uri": "https://localhost:8080/"
        },
        "id": "AsxLnQWwok6y",
        "outputId": "093350de-3d6e-4400-d797-494ae2af5b05"
      },
      "source": [
        "# torch.Tensor jest odpowiednikiem np.ndarray\n",
        "data = [[1, 2], [3, 4]]\n",
        "numpy_array = np.array(data)\n",
        "torch_tensor = torch.tensor(data)  # list -> torch tensor\n",
        "print(torch.tensor(numpy_array))  # numpy array -> torch tensor\n",
        "print(torch_tensor.numpy())  # torch tensor -> numpy array"
      ],
      "execution_count": 2,
      "outputs": [
        {
          "output_type": "stream",
          "name": "stdout",
          "text": [
            "tensor([[1, 2],\n",
            "        [3, 4]])\n",
            "[[1 2]\n",
            " [3 4]]\n"
          ]
        }
      ]
    },
    {
      "cell_type": "code",
      "metadata": {
        "colab": {
          "base_uri": "https://localhost:8080/"
        },
        "id": "VGoYrFwrpnY7",
        "outputId": "fc66dc47-c7c1-4c7f-b8bd-d2a180a2df83"
      },
      "source": [
        "# Widoki na podtablicę analogicznie jak w numpy\n",
        "tensor = torch.ones(4, 4)\n",
        "print('First row: ',tensor[0])\n",
        "print('First column: ', tensor[:, 0])"
      ],
      "execution_count": 3,
      "outputs": [
        {
          "output_type": "stream",
          "name": "stdout",
          "text": [
            "First row:  tensor([1., 1., 1., 1.])\n",
            "First column:  tensor([1., 1., 1., 1.])\n"
          ]
        }
      ]
    },
    {
      "cell_type": "code",
      "metadata": {
        "colab": {
          "base_uri": "https://localhost:8080/"
        },
        "id": "K5YXJ8jUp1KK",
        "outputId": "34d3a25a-189a-4b17-81a4-8eb2033d9749"
      },
      "source": [
        "# Operacje arytmetyczne analogicznie jak w numpy\n",
        "a = torch.tensor([[1., 2.], [3., 4.]])\n",
        "b = torch.tensor([[0., 1.], [1., 0.]])\n",
        "print(a * b)\n",
        "print(a @ b)\n",
        "print(a + b)"
      ],
      "execution_count": 4,
      "outputs": [
        {
          "output_type": "stream",
          "name": "stdout",
          "text": [
            "tensor([[0., 2.],\n",
            "        [3., 0.]])\n",
            "tensor([[2., 1.],\n",
            "        [4., 3.]])\n",
            "tensor([[1., 3.],\n",
            "        [4., 4.]])\n"
          ]
        }
      ]
    },
    {
      "cell_type": "code",
      "metadata": {
        "colab": {
          "base_uri": "https://localhost:8080/"
        },
        "id": "9a0Al7uMlHh2",
        "outputId": "5c698dbb-d30a-4ddd-cc3e-bafb78e94be7"
      },
      "source": [
        "# Liczenie pochodnych\n",
        "# requires_grad jest wymagane dla zmiennych, po których będziemy liczyli pochodną.\n",
        "# Daje to informację bibliotece, by zbudowała graf obliczeń dla liczenia pochodnych\n",
        "# i zapisała dodatkowe potrzebne informacje.\n",
        "x = torch.tensor(1., requires_grad=True)\n",
        "y = 3 * x * x  # y <- x\n",
        "y.backward()  # Liczymy pochodną\n",
        "print(x.grad)"
      ],
      "execution_count": 5,
      "outputs": [
        {
          "output_type": "stream",
          "name": "stdout",
          "text": [
            "tensor(6.)\n"
          ]
        }
      ]
    },
    {
      "cell_type": "code",
      "metadata": {
        "colab": {
          "base_uri": "https://localhost:8080/"
        },
        "id": "QfETiAZHrDwj",
        "outputId": "bc40ed6d-606a-428b-c740-9d55205c26a4"
      },
      "source": [
        "# Liczenie pochodnych - zmienna wielowymiarowa\n",
        "c = 2 * torch.eye(3)  # torch.eye gives identity matrix\n",
        "x = torch.randn(3, 3, requires_grad=True)  # x filled with Gaussian noise\n",
        "y = (c @ x).sum()\n",
        "y.backward()\n",
        "print(x)\n",
        "print(x.grad)"
      ],
      "execution_count": 6,
      "outputs": [
        {
          "output_type": "stream",
          "name": "stdout",
          "text": [
            "tensor([[-0.1542, -0.3520,  0.1765],\n",
            "        [ 0.6382,  1.4767,  0.7025],\n",
            "        [-0.9270, -0.8505,  2.7494]], requires_grad=True)\n",
            "tensor([[2., 2., 2.],\n",
            "        [2., 2., 2.],\n",
            "        [2., 2., 2.]])\n"
          ]
        }
      ]
    },
    {
      "cell_type": "markdown",
      "metadata": {
        "id": "C10Rme5RAOBB"
      },
      "source": [
        "## Zadanie"
      ]
    },
    {
      "cell_type": "markdown",
      "metadata": {
        "id": "Rjtbjo_QAzoF"
      },
      "source": [
        "**Zadanie 1.** *(20% punktów)* Proszę zaimplementować ponownie funkcję z zadań 1 i 2 (przerobić państwa implementację) z poprzedniego zestawu, tylko tym razem działającą na tensorach z PyTorcha, a nie tablicach NumPy.\n",
        "Przypominam, że zabronione jest korzystanie z pythonowych pętli."
      ]
    },
    {
      "cell_type": "code",
      "metadata": {
        "id": "d6FVEr5qAPrn"
      },
      "source": [
        "def normalize_rows(x):\n",
        "    sum = torch.sum(torch.abs(x))\n",
        "    return x / sum\n",
        "\n",
        "def compute_euclidean_distances(A):\n",
        "    # Expand the dimensions of A to compute the difference (A[i,k] - A[j,k])\n",
        "    diff = A[:, None, :] - A[None, :, :]\n",
        "\n",
        "    # Square the differences\n",
        "    squared_diff = diff ** 2\n",
        "\n",
        "    # Sum over the last axis (which corresponds to the summation over k)\n",
        "    dist_matrix = torch.sum(squared_diff, axis=-1)\n",
        "\n",
        "    # Take the square root to get the Euclidean distance\n",
        "    return torch.sqrt(dist_matrix)"
      ],
      "execution_count": 7,
      "outputs": []
    },
    {
      "cell_type": "code",
      "source": [
        "x = torch.tensor([\n",
        "    [0,0],\n",
        "    [1,1],\n",
        "    [2,2],\n",
        "    [1,2],\n",
        "    [2,1]\n",
        "])\n",
        "print(x)\n",
        "x = compute_euclidean_distances(x)\n",
        "print(x)"
      ],
      "metadata": {
        "colab": {
          "base_uri": "https://localhost:8080/"
        },
        "id": "wykXXGgj9Lc4",
        "outputId": "7c4b1cba-0bd6-44d7-dd38-98ee46c92ffd"
      },
      "execution_count": 8,
      "outputs": [
        {
          "output_type": "stream",
          "name": "stdout",
          "text": [
            "tensor([[0, 0],\n",
            "        [1, 1],\n",
            "        [2, 2],\n",
            "        [1, 2],\n",
            "        [2, 1]])\n",
            "tensor([[0.0000, 1.4142, 2.8284, 2.2361, 2.2361],\n",
            "        [1.4142, 0.0000, 1.4142, 1.0000, 1.0000],\n",
            "        [2.8284, 1.4142, 0.0000, 1.0000, 1.0000],\n",
            "        [2.2361, 1.0000, 1.0000, 0.0000, 1.4142],\n",
            "        [2.2361, 1.0000, 1.0000, 1.4142, 0.0000]])\n"
          ]
        }
      ]
    },
    {
      "cell_type": "markdown",
      "metadata": {
        "id": "NXlMuABQBbWo"
      },
      "source": [
        "# Regresja logistyczna"
      ]
    },
    {
      "cell_type": "markdown",
      "metadata": {
        "id": "RsT4CFnVHT_B"
      },
      "source": [
        "## Klasyfikacja\n",
        "\n",
        "Dzisiaj na zajęciach zajmiemy się problemem klasyfikacji. Podobnie do regresji liniowej jest to przykład uczenia nadzorowanego, ale zamiast przewidywać konkretną liczbę dla danej obserwacji, przewidujemy jego przynależność do jednej z *k* klas. Na tych zajęciach będziemy rozważać klasyfikacje binarną, czyli uczyć modele odpowiadające funkcji:\n",
        "\n",
        "$$ f(x) = y, \\quad y \\in \\{0,1\\} $$\n",
        "\n",
        "## Regresja logistyczna jako model probabilistyczny\n",
        "Regresja logistyczna zwraca nam dla danego przykładu $x$ i poszczególnych klas $y$ prawdopodobieństwa $p(y \\mid x)$.\n",
        "\n",
        "Stworzymy funkcję $g(x)$ taką, że $g(x)$ ma przybliżać $p(y = 1 \\mid x)$. Wówczas $p(y = 0 \\mid x) = 1 - g(x)$.\n",
        "\n",
        "## Regresja logistyczna na podstawie regresji liniowej\n",
        "\n",
        "**Problem:** Jak uzyskać probabilistyczny model klasyfikacyjny? Moglibyśmy użyć naszego modelu liniowego o postaci $f(x) = w^Tx + b$, ale ten model ma wadę, że może przyjmować dowolne wartości ze zbioru liczb rzeczywistych, tzn. $f(x) \\in \\mathbb{R}$, natomiast z definicji prawdopodobieństwo $p(y=1) \\in [0, 1]$.\n",
        "\n",
        "**Rozwiązanie:** Potrzebujemy więc funkcji, która \"spłaszczy\" nam przedział $\\mathbb{R}$ do $[0, 1]$. Można by taką funkcję znaleźć na wiele sposobów, ale z powodów technicznych najczęściej korzysta się z sigmoidy, tzn.:\n",
        "$$ \\sigma(x) = \\frac{1}{1 + \\exp(-x)} $$\n",
        "\n",
        "Zauważmy, że $x \\geq 0 \\iff \\sigma(x) \\geq 50\\%$, więc nasz model będzie przewidywał pozytywną klasę (nr 1), gdy liczba która wchodzi do $\\sigma$ jest równa co najmniej 0.\n",
        "\n",
        "**Wykres funkcji sigmoid**"
      ]
    },
    {
      "cell_type": "code",
      "metadata": {
        "colab": {
          "base_uri": "https://localhost:8080/",
          "height": 487
        },
        "id": "_n5zmZFWDnbA",
        "outputId": "0ac28cd1-980f-4a50-cec7-6b69975e870b"
      },
      "source": [
        "import numpy as np\n",
        "import matplotlib.pyplot as plt\n",
        "\n",
        "plt.xlabel(\"x\")\n",
        "plt.ylabel(\"sigma(x)\")\n",
        "plt.plot(np.linspace(-6, 6), 1 / (1 + np.exp(-np.linspace(-6, 6))))"
      ],
      "execution_count": 9,
      "outputs": [
        {
          "output_type": "execute_result",
          "data": {
            "text/plain": [
              "[<matplotlib.lines.Line2D at 0x793010e35ae0>]"
            ]
          },
          "metadata": {},
          "execution_count": 9
        },
        {
          "output_type": "display_data",
          "data": {
            "text/plain": [
              "<Figure size 640x480 with 1 Axes>"
            ],
            "image/png": "[encoded data removed]"
          },
          "metadata": {}
        }
      ]
    },
    {
      "cell_type": "markdown",
      "metadata": {
        "id": "uVMZaFZVHK3I"
      },
      "source": [
        "Ostatecznie nasz model wygląda tak:\n",
        "$$\n",
        "    \\hat{p}(y = 1 \\mid x) = \\sigma(w^Tx + b)\n",
        "$$\n",
        "\n",
        "Mamy więc model, który jest w stanie dać nam rozkład prawdopodobieństwa etykiety pod warunkiem $\\hat{p}(y \\mid x)$. Nasz zbiór treningowy zawiera też próbki z prawdziwego rozkładu prawdopodobieństwa: $p(y_i \\mid x_i)$.\n",
        "\n",
        "Jako funkcję kosztu wybieramy sobie więc \"różnicę\" pomiędzy prawdziwym rozkładem, a rozkładem zadanym przez nasz model. W tym wypadku sprawdza się **entropia krzyżowa** (cross-entropy), zadana wzorem:\n",
        "\n",
        "\n",
        "\\begin{split}\n",
        "      \\mathcal{H}(p(y \\mid x_i), \\hat{p}(y \\mid x_i)) &= -\\sum_{k \\in \\{0, 1\\}} p(y=k \\mid x_i) \\ln \\hat{p}(y=k \\mid x_i) \\\\\n",
        "      &= -p(y = 0 \\mid x_i) \\ln \\hat{p}(y = 0 \\mid x_i) - p(y=1 \\mid x_i) \\ln \\hat{p}(y=1 \\mid x_i) \\\\\n",
        "      &= -(1 - p(y = 1 \\mid x_i)) \\ln (1 - \\hat{p}(y = 1 \\mid x_i)) - p(y=1 \\mid x_i) \\ln \\hat{p}(y=1 \\mid x_i) \\\\\n",
        "      &= - (1 - y_i) \\ln (1 - \\hat{y}) - y_i \\ln \\hat{y} ,\n",
        "\\end{split}\n",
        "gdzie podstawiliśmy sobie: $$\\hat{p}(y=1 \\mid x_i) = \\hat{y}, \\\\ p(y=1 \\mid x_i) = y_i$$\n",
        "\n",
        "Ustalmy teraz, że ostateczna funkcja kosztu naszego modelu to będzie średnia entropia krzyżowa dla zbioru danych:\n",
        "$$\n",
        "    \\mathcal{L}(X) = \\frac{1}{N} \\sum_{(x_i, y_i) \\in X}^N  \\mathcal{H}(p(y \\mid x_i), \\hat{p}(y \\mid x_i))\n",
        "$$\n",
        "\n",
        "\n",
        "Taki model możemy teraz optymalizować metodą spadku gradientu i wykorzystać do klasyfikacji."
      ]
    },
    {
      "cell_type": "markdown",
      "metadata": {
        "id": "H8jq-j3rK5MT"
      },
      "source": [
        "## Zadanie"
      ]
    },
    {
      "cell_type": "markdown",
      "metadata": {
        "id": "GrjHSWJvK_vO"
      },
      "source": [
        "**Zadanie 2.** *(80% punktów)* Proszę zaimplementować w PyTorchu regresję logistyczną. W tym celu trzeba napisać następujące funkcje:\n",
        "1. Funkcję kosztu modelu regresji logistycznej `loss(X, y)`, według następujących kroków:\n",
        "    * Liczymy model liniowy $z = w^Tx + b$\n",
        "    * Na wektorze $z$ uruchamiamy funkcję $\\hat{y} = \\sigma(z) = \\frac{1}{1 + \\exp(-z)}$.\n",
        "    * Liczymy entropię krzyżową pomiędzy predykcjami $\\hat{y}$ a etykietami $y$ zadaną przez:\n",
        "    $\\frac{1}{N} \\sum_i - (1 - y_i) \\ln (1 - \\hat{y}_i) - y_i \\ln \\hat{y}_i$\n",
        "2. Funkcję `predict_prob_positive(X)` zwracającą dla każdego $x_i \\in X$ zadane przez nasz model prawdopodobieństwo $\\hat{p}(y = 1 \\mid x_i)$.\n",
        "3. Funkcję `predict(X)` zwracającą dla każdego $x_i \\in X$ przewidywaną etykietę (tzn. $0$ albo $1$).\n",
        "\n",
        "Tensory wejściowe będą o następujących kształtach: $X$: kształt $(D, n)$; $y$: kształt $(D,)$ - gdzie D to rozmiar zbioru danych, a $n$ liczba cech.\n",
        "\n",
        "**UWAGA** Nie można korzystać z funkcji PyTorcha do liczenia entropii krzyżowej (np. `torch.nn.BCELoss`) ani sigmoidy (np.`torch.nn.functional.Sigmoid`)."
      ]
    },
    {
      "cell_type": "code",
      "metadata": {
        "id": "fssJNMX66v5t"
      },
      "source": [
        "import torch\n",
        "import matplotlib.pyplot as plt"
      ],
      "execution_count": 10,
      "outputs": []
    },
    {
      "cell_type": "code",
      "metadata": {
        "id": "tQyadeqpGUq-"
      },
      "source": [
        "class LogisticRegression:\n",
        "    def __init__(self, input_dim):\n",
        "        self.weight = None\n",
        "        self.bias = None\n",
        "        self.input_dim = input_dim\n",
        "\n",
        "    def fit(self, X, y, lr=1e-3, num_steps=int(1e4)):\n",
        "        self.weight = torch.randn(self.input_dim, requires_grad=True)\n",
        "        self.bias = torch.randn((), requires_grad=True)\n",
        "\n",
        "        for idx in range(num_steps):\n",
        "            self.weight.requires_grad = True\n",
        "            self.bias.requires_grad = True\n",
        "\n",
        "            # Compute loss\n",
        "            loss_val = self.loss(X, y)\n",
        "            loss_val.backward()\n",
        "\n",
        "            # Update parameters\n",
        "            with torch.no_grad():\n",
        "                self.weight -= lr * self.weight.grad\n",
        "                self.bias -= lr * self.bias.grad\n",
        "\n",
        "                # Zero gradients\n",
        "                self.weight.grad.zero_()\n",
        "                self.bias.grad.zero_()\n",
        "\n",
        "            if (idx + 1) % 50 == 0:\n",
        "                print(f\"Epoch: {idx + 1}, Loss: {loss_val.item()}\")\n",
        "\n",
        "    def predict_prob_positive(self, X: torch.Tensor) -> torch.Tensor:\n",
        "        with torch.no_grad():\n",
        "            prediction = self.sigmoid(X @ self.weight + self.bias)\n",
        "            return prediction\n",
        "\n",
        "    def predict(self, X: torch.Tensor) -> torch.FloatTensor:\n",
        "        probabilities = self.predict_prob_positive(X)\n",
        "        return torch.round(probabilities)\n",
        "\n",
        "    def sigmoid(self, z: torch.Tensor) -> torch.Tensor:\n",
        "        return 1 / (1 + torch.exp(-z))\n",
        "\n",
        "    def loss(self, X: torch.Tensor, y: torch.Tensor) -> torch.Tensor:\n",
        "        z = X @ self.weight + self.bias\n",
        "        s = self.sigmoid(z)\n",
        "\n",
        "        # epsilon = 1e-7\n",
        "        # s = torch.clamp(s, epsilon, 1.0 - epsilon)\n",
        "\n",
        "        cross_entropy = -torch.sum(y * torch.log(s) + (1 - y) * torch.log(1 - s)) / X.size()[0]\n",
        "\n",
        "        return cross_entropy\n"
      ],
      "execution_count": 139,
      "outputs": []
    },
    {
      "cell_type": "code",
      "metadata": {
        "id": "taWbcLX6MDfb",
        "colab": {
          "base_uri": "https://localhost:8080/",
          "height": 1000
        },
        "outputId": "b886b373-457d-4957-da1b-542922475a75"
      },
      "source": [
        "# Kod do sprawdzenia i wizualizacji rozwiązania\n",
        "\n",
        "def get_classification_dataset_2d():\n",
        "    torch.manual_seed(4)\n",
        "    X = torch.cat([\n",
        "        torch.randn(50, 2) * 2 + torch.tensor([4., 2.]),\n",
        "        torch.randn(50, 2) * 0.5 + torch.tensor([2., -4.]),\n",
        "    ])\n",
        "\n",
        "    y = torch.cat([torch.zeros(50), torch.ones(50)])\n",
        "    return X, y\n",
        "\n",
        "\n",
        "def plot_dataset_2d(logistic_reg, X, y):\n",
        "    plt.scatter(X[y == 0, 0], X[y == 0, 1], c=\"purple\", label=\"0\")\n",
        "    plt.scatter(X[y == 1, 0], X[y == 1, 1], c=\"yellow\", label=\"1\")\n",
        "\n",
        "    linspace_x = torch.linspace(-4, 7, 30)\n",
        "    linspace_y = (-logistic_reg.bias - logistic_reg.weight[0] * linspace_x) / logistic_reg.weight[1]  # solving for wx + b = 0\n",
        "\n",
        "    linspace_y = linspace_y.detach().numpy()\n",
        "    plt.plot(linspace_x.detach().numpy(), linspace_y, label=\"Granica decyzyjna\")\n",
        "    plt.legend()\n",
        "\n",
        "\n",
        "def calculate_accuracy(logistic_reg, X, y):\n",
        "    preds = logistic_reg.predict(X)\n",
        "    correct_n = (preds == y).float().sum().item()\n",
        "    return correct_n / len(y)\n",
        "\n",
        "\n",
        "X, y = get_classification_dataset_2d()\n",
        "\n",
        "logistic_reg = LogisticRegression(input_dim=2)\n",
        "logistic_reg.fit(X, y, lr=1e-2, num_steps=int(20000))\n",
        "acc = calculate_accuracy(logistic_reg, X, y)\n",
        "print(\"Training accuracy: \", acc)\n",
        "\n",
        "plot_dataset_2d(logistic_reg, X, y)"
      ],
      "execution_count": 140,
      "outputs": [
        {
          "output_type": "stream",
          "name": "stdout",
          "text": [
            "Epoch: 50, Loss: 0.8212330341339111\n",
            "Epoch: 100, Loss: 0.4040006995201111\n",
            "Epoch: 150, Loss: 0.2644543945789337\n",
            "Epoch: 200, Loss: 0.1993284672498703\n",
            "Epoch: 250, Loss: 0.16112367808818817\n",
            "Epoch: 300, Loss: 0.13599638640880585\n",
            "Epoch: 350, Loss: 0.1183578372001648\n",
            "Epoch: 400, Loss: 0.10542459785938263\n",
            "Epoch: 450, Loss: 0.0956340953707695\n",
            "Epoch: 500, Loss: 0.08804243057966232\n",
            "Epoch: 550, Loss: 0.08204708248376846\n",
            "Epoch: 600, Loss: 0.07724579423666\n",
            "Epoch: 650, Loss: 0.07335936278104782\n",
            "Epoch: 700, Loss: 0.07018730044364929\n",
            "Epoch: 750, Loss: 0.06758125126361847\n",
            "Epoch: 800, Loss: 0.06542877852916718\n",
            "Epoch: 850, Loss: 0.06364277005195618\n",
            "Epoch: 900, Loss: 0.062154389917850494\n",
            "Epoch: 950, Loss: 0.06090865284204483\n",
            "Epoch: 1000, Loss: 0.05986104905605316\n",
            "Epoch: 1050, Loss: 0.058975402265787125\n",
            "Epoch: 1100, Loss: 0.05822211876511574\n",
            "Epoch: 1150, Loss: 0.05757691711187363\n",
            "Epoch: 1200, Loss: 0.05702003464102745\n",
            "Epoch: 1250, Loss: 0.05653531476855278\n",
            "Epoch: 1300, Loss: 0.05610949546098709\n",
            "Epoch: 1350, Loss: 0.055731914937496185\n",
            "Epoch: 1400, Loss: 0.05539383739233017\n",
            "Epoch: 1450, Loss: 0.05508828163146973\n",
            "Epoch: 1500, Loss: 0.05480958893895149\n",
            "Epoch: 1550, Loss: 0.05455320328474045\n",
            "Epoch: 1600, Loss: 0.054315462708473206\n",
            "Epoch: 1650, Loss: 0.054093435406684875\n",
            "Epoch: 1700, Loss: 0.05388474836945534\n",
            "Epoch: 1750, Loss: 0.05368752405047417\n",
            "Epoch: 1800, Loss: 0.05350017547607422\n",
            "Epoch: 1850, Loss: 0.05332149565219879\n",
            "Epoch: 1900, Loss: 0.053150471299886703\n",
            "Epoch: 1950, Loss: 0.0529862605035305\n",
            "Epoch: 2000, Loss: 0.05282817780971527\n",
            "Epoch: 2050, Loss: 0.052675649523735046\n",
            "Epoch: 2100, Loss: 0.05252821743488312\n",
            "Epoch: 2150, Loss: 0.052385471761226654\n",
            "Epoch: 2200, Loss: 0.052247047424316406\n",
            "Epoch: 2250, Loss: 0.05211266875267029\n",
            "Epoch: 2300, Loss: 0.05198210850358009\n",
            "Epoch: 2350, Loss: 0.05185509845614433\n",
            "Epoch: 2400, Loss: 0.051731452345848083\n",
            "Epoch: 2450, Loss: 0.051610980182886124\n",
            "Epoch: 2500, Loss: 0.0514935627579689\n",
            "Epoch: 2550, Loss: 0.05137898400425911\n",
            "Epoch: 2600, Loss: 0.05126717686653137\n",
            "Epoch: 2650, Loss: 0.05115799978375435\n",
            "Epoch: 2700, Loss: 0.05105132237076759\n",
            "Epoch: 2750, Loss: 0.05094703286886215\n",
            "Epoch: 2800, Loss: 0.050845079123973846\n",
            "Epoch: 2850, Loss: 0.050745315849781036\n",
            "Epoch: 2900, Loss: 0.050647687166929245\n",
            "Epoch: 2950, Loss: 0.050552111119031906\n",
            "Epoch: 3000, Loss: 0.05045849829912186\n",
            "Epoch: 3050, Loss: 0.05036676302552223\n",
            "Epoch: 3100, Loss: 0.050276871770620346\n",
            "Epoch: 3150, Loss: 0.05018874257802963\n",
            "Epoch: 3200, Loss: 0.05010230094194412\n",
            "Epoch: 3250, Loss: 0.05001749098300934\n",
            "Epoch: 3300, Loss: 0.049934305250644684\n",
            "Epoch: 3350, Loss: 0.049852609634399414\n",
            "Epoch: 3400, Loss: 0.04977240413427353\n",
            "Epoch: 3450, Loss: 0.049693621695041656\n",
            "Epoch: 3500, Loss: 0.04961623251438141\n",
            "Epoch: 3550, Loss: 0.049540191888809204\n",
            "Epoch: 3600, Loss: 0.04946543648838997\n",
            "Epoch: 3650, Loss: 0.049391888082027435\n",
            "Epoch: 3700, Loss: 0.04931960627436638\n",
            "Epoch: 3750, Loss: 0.049248479306697845\n",
            "Epoch: 3800, Loss: 0.049178510904312134\n",
            "Epoch: 3850, Loss: 0.049109622836112976\n",
            "Epoch: 3900, Loss: 0.04904180020093918\n",
            "Epoch: 3950, Loss: 0.04897502809762955\n",
            "Epoch: 4000, Loss: 0.048909250646829605\n",
            "Epoch: 4050, Loss: 0.04884447157382965\n",
            "Epoch: 4100, Loss: 0.04878062382340431\n",
            "Epoch: 4150, Loss: 0.0487176813185215\n",
            "Epoch: 4200, Loss: 0.04865564405918121\n",
            "Epoch: 4250, Loss: 0.04859448969364166\n",
            "Epoch: 4300, Loss: 0.04853415489196777\n",
            "Epoch: 4350, Loss: 0.04847465828061104\n",
            "Epoch: 4400, Loss: 0.04841594398021698\n",
            "Epoch: 4450, Loss: 0.04835803806781769\n",
            "Epoch: 4500, Loss: 0.0483008436858654\n",
            "Epoch: 4550, Loss: 0.048244409263134\n",
            "Epoch: 4600, Loss: 0.04818869009613991\n",
            "Epoch: 4650, Loss: 0.04813364893198013\n",
            "Epoch: 4700, Loss: 0.04807925596833229\n",
            "Epoch: 4750, Loss: 0.04802556335926056\n",
            "Epoch: 4800, Loss: 0.047972507774829865\n",
            "Epoch: 4850, Loss: 0.04792005941271782\n",
            "Epoch: 4900, Loss: 0.04786822199821472\n",
            "Epoch: 4950, Loss: 0.04781697317957878\n",
            "Epoch: 5000, Loss: 0.0477663055062294\n",
            "Epoch: 5050, Loss: 0.04771621525287628\n",
            "Epoch: 5100, Loss: 0.04766664654016495\n",
            "Epoch: 5150, Loss: 0.04761763662099838\n",
            "Epoch: 5200, Loss: 0.04756913334131241\n",
            "Epoch: 5250, Loss: 0.04752112552523613\n",
            "Epoch: 5300, Loss: 0.04747365042567253\n",
            "Epoch: 5350, Loss: 0.04742663353681564\n",
            "Epoch: 5400, Loss: 0.047380104660987854\n",
            "Epoch: 5450, Loss: 0.047334011644124985\n",
            "Epoch: 5500, Loss: 0.047288380563259125\n",
            "Epoch: 5550, Loss: 0.04724317416548729\n",
            "Epoch: 5600, Loss: 0.047198425978422165\n",
            "Epoch: 5650, Loss: 0.04715408757328987\n",
            "Epoch: 5700, Loss: 0.04711012914776802\n",
            "Epoch: 5750, Loss: 0.04706660285592079\n",
            "Epoch: 5800, Loss: 0.047023460268974304\n",
            "Epoch: 5850, Loss: 0.04698070511221886\n",
            "Epoch: 5900, Loss: 0.04693831503391266\n",
            "Epoch: 5950, Loss: 0.046896301209926605\n",
            "Epoch: 6000, Loss: 0.046854618936777115\n",
            "Epoch: 6050, Loss: 0.04681328684091568\n",
            "Epoch: 6100, Loss: 0.04677233099937439\n",
            "Epoch: 6150, Loss: 0.046731676906347275\n",
            "Epoch: 6200, Loss: 0.04669136181473732\n",
            "Epoch: 6250, Loss: 0.046651359647512436\n",
            "Epoch: 6300, Loss: 0.04661168158054352\n",
            "Epoch: 6350, Loss: 0.04657229036092758\n",
            "Epoch: 6400, Loss: 0.04653322696685791\n",
            "Epoch: 6450, Loss: 0.046494413167238235\n",
            "Epoch: 6500, Loss: 0.04645590856671333\n",
            "Epoch: 6550, Loss: 0.04641769453883171\n",
            "Epoch: 6600, Loss: 0.04637976735830307\n",
            "Epoch: 6650, Loss: 0.04634208604693413\n",
            "Epoch: 6700, Loss: 0.04630466550588608\n",
            "Epoch: 6750, Loss: 0.04626752436161041\n",
            "Epoch: 6800, Loss: 0.04623062163591385\n",
            "Epoch: 6850, Loss: 0.04619397222995758\n",
            "Epoch: 6900, Loss: 0.04615755006670952\n",
            "Epoch: 6950, Loss: 0.046121396124362946\n",
            "Epoch: 7000, Loss: 0.046085454523563385\n",
            "Epoch: 7050, Loss: 0.04604974389076233\n",
            "Epoch: 7100, Loss: 0.046014271676540375\n",
            "Epoch: 7150, Loss: 0.04597901180386543\n",
            "Epoch: 7200, Loss: 0.0459439642727375\n",
            "Epoch: 7250, Loss: 0.04590914770960808\n",
            "Epoch: 7300, Loss: 0.04587448760867119\n",
            "Epoch: 7350, Loss: 0.045840080827474594\n",
            "Epoch: 7400, Loss: 0.04580584540963173\n",
            "Epoch: 7450, Loss: 0.04577181488275528\n",
            "Epoch: 7500, Loss: 0.04573798552155495\n",
            "Epoch: 7550, Loss: 0.04570436477661133\n",
            "Epoch: 7600, Loss: 0.04567091166973114\n",
            "Epoch: 7650, Loss: 0.04563762620091438\n",
            "Epoch: 7700, Loss: 0.04560451582074165\n",
            "Epoch: 7750, Loss: 0.04557158797979355\n",
            "Epoch: 7800, Loss: 0.045538853853940964\n",
            "Epoch: 7850, Loss: 0.04550629109144211\n",
            "Epoch: 7900, Loss: 0.045473869889974594\n",
            "Epoch: 7950, Loss: 0.04544161260128021\n",
            "Epoch: 8000, Loss: 0.045409537851810455\n",
            "Epoch: 8050, Loss: 0.045377589762210846\n",
            "Epoch: 8100, Loss: 0.04534582048654556\n",
            "Epoch: 8150, Loss: 0.04531417787075043\n",
            "Epoch: 8200, Loss: 0.045282717794179916\n",
            "Epoch: 8250, Loss: 0.045251406729221344\n",
            "Epoch: 8300, Loss: 0.04522019252181053\n",
            "Epoch: 8350, Loss: 0.045189179480075836\n",
            "Epoch: 8400, Loss: 0.04515828192234039\n",
            "Epoch: 8450, Loss: 0.045127496123313904\n",
            "Epoch: 8500, Loss: 0.04509686306118965\n",
            "Epoch: 8550, Loss: 0.04506636783480644\n",
            "Epoch: 8600, Loss: 0.04503602162003517\n",
            "Epoch: 8650, Loss: 0.045005783438682556\n",
            "Epoch: 8700, Loss: 0.0449756421148777\n",
            "Epoch: 8750, Loss: 0.04494568333029747\n",
            "Epoch: 8800, Loss: 0.0449158176779747\n",
            "Epoch: 8850, Loss: 0.04488607496023178\n",
            "Epoch: 8900, Loss: 0.04485646262764931\n",
            "Epoch: 8950, Loss: 0.0448269359767437\n",
            "Epoch: 9000, Loss: 0.044797539710998535\n",
            "Epoch: 9050, Loss: 0.04476826265454292\n",
            "Epoch: 9100, Loss: 0.04473910853266716\n",
            "Epoch: 9150, Loss: 0.04471001774072647\n",
            "Epoch: 9200, Loss: 0.04468107596039772\n",
            "Epoch: 9250, Loss: 0.04465222731232643\n",
            "Epoch: 9300, Loss: 0.044623490422964096\n",
            "Epoch: 9350, Loss: 0.044594839215278625\n",
            "Epoch: 9400, Loss: 0.04456629604101181\n",
            "Epoch: 9450, Loss: 0.044537849724292755\n",
            "Epoch: 9500, Loss: 0.04450952634215355\n",
            "Epoch: 9550, Loss: 0.04448126256465912\n",
            "Epoch: 9600, Loss: 0.04445312172174454\n",
            "Epoch: 9650, Loss: 0.044425077736377716\n",
            "Epoch: 9700, Loss: 0.04439710080623627\n",
            "Epoch: 9750, Loss: 0.044369231909513474\n",
            "Epoch: 9800, Loss: 0.044341444969177246\n",
            "Epoch: 9850, Loss: 0.044313766062259674\n",
            "Epoch: 9900, Loss: 0.04428613558411598\n",
            "Epoch: 9950, Loss: 0.04425860941410065\n",
            "Epoch: 10000, Loss: 0.04423118755221367\n",
            "Epoch: 10050, Loss: 0.044203855097293854\n",
            "Epoch: 10100, Loss: 0.044176578521728516\n",
            "Epoch: 10150, Loss: 0.04414936155080795\n",
            "Epoch: 10200, Loss: 0.04412224888801575\n",
            "Epoch: 10250, Loss: 0.044095221906900406\n",
            "Epoch: 10300, Loss: 0.04406828060746193\n",
            "Epoch: 10350, Loss: 0.044041410088539124\n",
            "Epoch: 10400, Loss: 0.04401460289955139\n",
            "Epoch: 10450, Loss: 0.04398787394165993\n",
            "Epoch: 10500, Loss: 0.043961212038993835\n",
            "Epoch: 10550, Loss: 0.04393463209271431\n",
            "Epoch: 10600, Loss: 0.04390813782811165\n",
            "Epoch: 10650, Loss: 0.04388170316815376\n",
            "Epoch: 10700, Loss: 0.043855320662260056\n",
            "Epoch: 10750, Loss: 0.043829020112752914\n",
            "Epoch: 10800, Loss: 0.04380279406905174\n",
            "Epoch: 10850, Loss: 0.043776627629995346\n",
            "Epoch: 10900, Loss: 0.04375053942203522\n",
            "Epoch: 10950, Loss: 0.04372449964284897\n",
            "Epoch: 11000, Loss: 0.04369856044650078\n",
            "Epoch: 11050, Loss: 0.04367264732718468\n",
            "Epoch: 11100, Loss: 0.04364680126309395\n",
            "Epoch: 11150, Loss: 0.04362102597951889\n",
            "Epoch: 11200, Loss: 0.04359530285000801\n",
            "Epoch: 11250, Loss: 0.04356963559985161\n",
            "Epoch: 11300, Loss: 0.04354405775666237\n",
            "Epoch: 11350, Loss: 0.04351850971579552\n",
            "Epoch: 11400, Loss: 0.043493036180734634\n",
            "Epoch: 11450, Loss: 0.04346760734915733\n",
            "Epoch: 11500, Loss: 0.0434422492980957\n",
            "Epoch: 11550, Loss: 0.04341692104935646\n",
            "Epoch: 11600, Loss: 0.04339166730642319\n",
            "Epoch: 11650, Loss: 0.04336647689342499\n",
            "Epoch: 11700, Loss: 0.04334132373332977\n",
            "Epoch: 11750, Loss: 0.04331624507904053\n",
            "Epoch: 11800, Loss: 0.043291207402944565\n",
            "Epoch: 11850, Loss: 0.043266233056783676\n",
            "Epoch: 11900, Loss: 0.043241292238235474\n",
            "Epoch: 11950, Loss: 0.04321639984846115\n",
            "Epoch: 12000, Loss: 0.043191585689783096\n",
            "Epoch: 12050, Loss: 0.04316679388284683\n",
            "Epoch: 12100, Loss: 0.04314206913113594\n",
            "Epoch: 12150, Loss: 0.04311738163232803\n",
            "Epoch: 12200, Loss: 0.0430927500128746\n",
            "Epoch: 12250, Loss: 0.04306817054748535\n",
            "Epoch: 12300, Loss: 0.04304364323616028\n",
            "Epoch: 12350, Loss: 0.0430191308259964\n",
            "Epoch: 12400, Loss: 0.042994700372219086\n",
            "Epoch: 12450, Loss: 0.042970288544893265\n",
            "Epoch: 12500, Loss: 0.042945943772792816\n",
            "Epoch: 12550, Loss: 0.042921628803014755\n",
            "Epoch: 12600, Loss: 0.04289734363555908\n",
            "Epoch: 12650, Loss: 0.04287314787507057\n",
            "Epoch: 12700, Loss: 0.04284895956516266\n",
            "Epoch: 12750, Loss: 0.04282481223344803\n",
            "Epoch: 12800, Loss: 0.04280073940753937\n",
            "Epoch: 12850, Loss: 0.042776674032211304\n",
            "Epoch: 12900, Loss: 0.04275265708565712\n",
            "Epoch: 12950, Loss: 0.04272871091961861\n",
            "Epoch: 13000, Loss: 0.042704783380031586\n",
            "Epoch: 13050, Loss: 0.04268089309334755\n",
            "Epoch: 13100, Loss: 0.04265705123543739\n",
            "Epoch: 13150, Loss: 0.042633239179849625\n",
            "Epoch: 13200, Loss: 0.04260947182774544\n",
            "Epoch: 13250, Loss: 0.04258573427796364\n",
            "Epoch: 13300, Loss: 0.04256204515695572\n",
            "Epoch: 13350, Loss: 0.04253838211297989\n",
            "Epoch: 13400, Loss: 0.04251476749777794\n",
            "Epoch: 13450, Loss: 0.04249120131134987\n",
            "Epoch: 13500, Loss: 0.04246766120195389\n",
            "Epoch: 13550, Loss: 0.04244416207075119\n",
            "Epoch: 13600, Loss: 0.04242067411541939\n",
            "Epoch: 13650, Loss: 0.04239723086357117\n",
            "Epoch: 13700, Loss: 0.04237384721636772\n",
            "Epoch: 13750, Loss: 0.042350493371486664\n",
            "Epoch: 13800, Loss: 0.0423271469771862\n",
            "Epoch: 13850, Loss: 0.04230387136340141\n",
            "Epoch: 13900, Loss: 0.042280618101358414\n",
            "Epoch: 13950, Loss: 0.04225737601518631\n",
            "Epoch: 14000, Loss: 0.042234182357788086\n",
            "Epoch: 14050, Loss: 0.042211055755615234\n",
            "Epoch: 14100, Loss: 0.042187925428152084\n",
            "Epoch: 14150, Loss: 0.04216483235359192\n",
            "Epoch: 14200, Loss: 0.04214175045490265\n",
            "Epoch: 14250, Loss: 0.042118750512599945\n",
            "Epoch: 14300, Loss: 0.04209575802087784\n",
            "Epoch: 14350, Loss: 0.04207277297973633\n",
            "Epoch: 14400, Loss: 0.04204986244440079\n",
            "Epoch: 14450, Loss: 0.042026959359645844\n",
            "Epoch: 14500, Loss: 0.04200409725308418\n",
            "Epoch: 14550, Loss: 0.041981250047683716\n",
            "Epoch: 14600, Loss: 0.04195844754576683\n",
            "Epoch: 14650, Loss: 0.041935667395591736\n",
            "Epoch: 14700, Loss: 0.04191291704773903\n",
            "Epoch: 14750, Loss: 0.04189018905162811\n",
            "Epoch: 14800, Loss: 0.04186748340725899\n",
            "Epoch: 14850, Loss: 0.04184483364224434\n",
            "Epoch: 14900, Loss: 0.041822224855422974\n",
            "Epoch: 14950, Loss: 0.041799601167440414\n",
            "Epoch: 15000, Loss: 0.04177703708410263\n",
            "Epoch: 15050, Loss: 0.041754502803087234\n",
            "Epoch: 15100, Loss: 0.04173196479678154\n",
            "Epoch: 15150, Loss: 0.04170949012041092\n",
            "Epoch: 15200, Loss: 0.04168703034520149\n",
            "Epoch: 15250, Loss: 0.04166456684470177\n",
            "Epoch: 15300, Loss: 0.04164218530058861\n",
            "Epoch: 15350, Loss: 0.04161980003118515\n",
            "Epoch: 15400, Loss: 0.04159744083881378\n",
            "Epoch: 15450, Loss: 0.041575122624635696\n",
            "Epoch: 15500, Loss: 0.04155283421278\n",
            "Epoch: 15550, Loss: 0.041530534625053406\n",
            "Epoch: 15600, Loss: 0.04150829464197159\n",
            "Epoch: 15650, Loss: 0.04148607701063156\n",
            "Epoch: 15700, Loss: 0.04146386310458183\n",
            "Epoch: 15750, Loss: 0.04144171625375748\n",
            "Epoch: 15800, Loss: 0.041419558227062225\n",
            "Epoch: 15850, Loss: 0.041397422552108765\n",
            "Epoch: 15900, Loss: 0.04137534275650978\n",
            "Epoch: 15950, Loss: 0.04135328158736229\n",
            "Epoch: 16000, Loss: 0.041331224143505096\n",
            "Epoch: 16050, Loss: 0.04130921512842178\n",
            "Epoch: 16100, Loss: 0.04128720238804817\n",
            "Epoch: 16150, Loss: 0.041265230625867844\n",
            "Epoch: 16200, Loss: 0.0412432923913002\n",
            "Epoch: 16250, Loss: 0.041221365332603455\n",
            "Epoch: 16300, Loss: 0.0411994643509388\n",
            "Epoch: 16350, Loss: 0.04117755964398384\n",
            "Epoch: 16400, Loss: 0.04115571826696396\n",
            "Epoch: 16450, Loss: 0.04113389179110527\n",
            "Epoch: 16500, Loss: 0.04111207649111748\n",
            "Epoch: 16550, Loss: 0.041090287268161774\n",
            "Epoch: 16600, Loss: 0.041068531572818756\n",
            "Epoch: 16650, Loss: 0.04104677215218544\n",
            "Epoch: 16700, Loss: 0.0410250723361969\n",
            "Epoch: 16750, Loss: 0.041003379970788956\n",
            "Epoch: 16800, Loss: 0.040981706231832504\n",
            "Epoch: 16850, Loss: 0.04096004366874695\n",
            "Epoch: 16900, Loss: 0.04093843325972557\n",
            "Epoch: 16950, Loss: 0.040916815400123596\n",
            "Epoch: 17000, Loss: 0.04089521989226341\n",
            "Epoch: 17050, Loss: 0.04087366163730621\n",
            "Epoch: 17100, Loss: 0.040852125734090805\n",
            "Epoch: 17150, Loss: 0.04083061218261719\n",
            "Epoch: 17200, Loss: 0.040809083729982376\n",
            "Epoch: 17250, Loss: 0.04078761115670204\n",
            "Epoch: 17300, Loss: 0.040766168385744095\n",
            "Epoch: 17350, Loss: 0.04074471443891525\n",
            "Epoch: 17400, Loss: 0.04072331264615059\n",
            "Epoch: 17450, Loss: 0.04070192947983742\n",
            "Epoch: 17500, Loss: 0.04068053141236305\n",
            "Epoch: 17550, Loss: 0.040659159421920776\n",
            "Epoch: 17600, Loss: 0.04063783213496208\n",
            "Epoch: 17650, Loss: 0.04061652347445488\n",
            "Epoch: 17700, Loss: 0.040595222264528275\n",
            "Epoch: 17750, Loss: 0.04057395085692406\n",
            "Epoch: 17800, Loss: 0.04055270180106163\n",
            "Epoch: 17850, Loss: 0.04053144529461861\n",
            "Epoch: 17900, Loss: 0.04051022231578827\n",
            "Epoch: 17950, Loss: 0.04048904776573181\n",
            "Epoch: 18000, Loss: 0.040467873215675354\n",
            "Epoch: 18050, Loss: 0.04044672101736069\n",
            "Epoch: 18100, Loss: 0.04042557626962662\n",
            "Epoch: 18150, Loss: 0.04040445387363434\n",
            "Epoch: 18200, Loss: 0.04038335755467415\n",
            "Epoch: 18250, Loss: 0.04036228358745575\n",
            "Epoch: 18300, Loss: 0.04034120589494705\n",
            "Epoch: 18350, Loss: 0.04032019153237343\n",
            "Epoch: 18400, Loss: 0.04029916599392891\n",
            "Epoch: 18450, Loss: 0.04027813300490379\n",
            "Epoch: 18500, Loss: 0.04025714844465256\n",
            "Epoch: 18550, Loss: 0.04023618623614311\n",
            "Epoch: 18600, Loss: 0.04021524265408516\n",
            "Epoch: 18650, Loss: 0.0401943102478981\n",
            "Epoch: 18700, Loss: 0.04017340764403343\n",
            "Epoch: 18750, Loss: 0.04015251249074936\n",
            "Epoch: 18800, Loss: 0.04013162478804588\n",
            "Epoch: 18850, Loss: 0.0401107519865036\n",
            "Epoch: 18900, Loss: 0.0400899313390255\n",
            "Epoch: 18950, Loss: 0.040069084614515305\n",
            "Epoch: 19000, Loss: 0.04004829376935959\n",
            "Epoch: 19050, Loss: 0.04002748429775238\n",
            "Epoch: 19100, Loss: 0.040006738156080246\n",
            "Epoch: 19150, Loss: 0.039985984563827515\n",
            "Epoch: 19200, Loss: 0.039965227246284485\n",
            "Epoch: 19250, Loss: 0.03994451090693474\n",
            "Epoch: 19300, Loss: 0.03992382436990738\n",
            "Epoch: 19350, Loss: 0.03990313410758972\n",
            "Epoch: 19400, Loss: 0.03988247364759445\n",
            "Epoch: 19450, Loss: 0.039861809462308884\n",
            "Epoch: 19500, Loss: 0.03984121233224869\n",
            "Epoch: 19550, Loss: 0.039820581674575806\n",
            "Epoch: 19600, Loss: 0.03979996219277382\n",
            "Epoch: 19650, Loss: 0.03977939486503601\n",
            "Epoch: 19700, Loss: 0.0397588349878788\n",
            "Epoch: 19750, Loss: 0.039738282561302185\n",
            "Epoch: 19800, Loss: 0.03971774876117706\n",
            "Epoch: 19850, Loss: 0.03969721868634224\n",
            "Epoch: 19900, Loss: 0.0396767295897007\n",
            "Epoch: 19950, Loss: 0.03965625911951065\n",
            "Epoch: 20000, Loss: 0.0396357998251915\n",
            "Training accuracy:  0.99\n"
          ]
        },
        {
          "output_type": "display_data",
          "data": {
            "text/plain": [
              "<Figure size 640x480 with 1 Axes>"
            ],
            "image/png": "[encoded data removed]"
          },
          "metadata": {}
        }
      ]
    },
    {
      "cell_type": "markdown",
      "metadata": {
        "id": "E13i_r9pPSD_"
      },
      "source": [
        "# Częściowe rozpisanie pochodnych"
      ]
    },
    {
      "cell_type": "markdown",
      "metadata": {
        "id": "0KbnTkdKP2Dn"
      },
      "source": [
        "Poniższe rozpisanie dotyczy 1 przykładu treningowego\n",
        "\n",
        "$z_i$ - aktywacja po i-tej warstwie, przed wzięciem relu\n",
        "\n",
        "$a_i$ - aktywacja po i-tej warstwie, po wzięciu relu\n",
        "\n",
        "$a_{i-1} = relu(z_{i-1})$\n",
        "\n",
        "$z_i = a_{i-1}w_{i-1} + b_{i-1}$\n",
        "\n",
        "$\\frac{\\partial l}{\\partial a_{i-1}} = \\frac{\\partial l}{\\partial z_{i}} \\frac{\\partial z_i}{\\partial a_{i-1}} = \\frac{\\partial l}{\\partial z_{i}}w_{i-1}^T$\n",
        "\n",
        "$\\frac{\\partial l}{\\partial z_{i-1}} = \\frac{\\partial l}{\\partial a_{i-1}}\\frac{\\partial a_{i-1}}{\\partial z_{i-1}} = \\frac{\\partial l}{\\partial a_{i-1}} \\bigodot \\mathbb{1}(z_{i-1} > 0)$"
      ]
    }
  ]
}