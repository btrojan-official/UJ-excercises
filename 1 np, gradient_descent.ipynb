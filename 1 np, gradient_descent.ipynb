{
  "nbformat": 4,
  "nbformat_minor": 0,
  "metadata": {
    "colab": {
      "provenance": [],
      "collapsed_sections": [
        "ZXKZ6mRR6LGc",
        "qM8_TZ0oUHV1",
        "BhQkJXvN6BWq",
        "ln5A39snBYqC",
        "c8PGCLJHNIO-"
      ]
    },
    "kernelspec": {
      "name": "python3",
      "display_name": "Python 3"
    }
  },
  "cells": [
    {
      "cell_type": "markdown",
      "metadata": {
        "id": "ZXKZ6mRR6LGc"
      },
      "source": [
        "# NumPy\n",
        "\n"
      ]
    },
    {
      "cell_type": "markdown",
      "metadata": {
        "id": "rXhUgA-aTksy"
      },
      "source": [
        "NumPy to podstawowa biblioteka do obliczeń naukowych, która umożliwia zoptymalizowane obliczenia na tablicach liczb (wektorach, macierzach, tensorach).\n",
        "\n",
        "\n",
        "* [quickstart](https://numpy.org/doc/stable/user/quickstart.html)\n",
        "* [for absolute beginners](https://numpy.org/doc/stable/user/absolute_beginners.html)\n",
        "* [NumPy fundamentals](https://numpy.org/devdocs/user/basics.html)\n",
        "* [dokumentacja](https://numpy.org/doc/stable/reference/index.html)"
      ]
    },
    {
      "cell_type": "markdown",
      "metadata": {
        "id": "iqzCz177BdPK"
      },
      "source": [
        "## Przykłady"
      ]
    },
    {
      "cell_type": "code",
      "metadata": {
        "id": "BAwH2oRkCPmI"
      },
      "source": [
        "import numpy as np"
      ],
      "execution_count": 3,
      "outputs": []
    },
    {
      "cell_type": "code",
      "metadata": {
        "colab": {
          "base_uri": "https://localhost:8080/"
        },
        "id": "VBFMULVmBbOq",
        "outputId": "7dc8c702-a187-4fc2-c66b-3129873478fa"
      },
      "source": [
        "# Zdefiniujmy dwie macierze 2x2 a, b:\n",
        "a = np.array([[1., 2.], [3., 4.]])\n",
        "b = np.array([[0., 1.], [1., 0.]])\n",
        "print(a)\n",
        "print()\n",
        "print(b)"
      ],
      "execution_count": 4,
      "outputs": [
        {
          "output_type": "stream",
          "name": "stdout",
          "text": [
            "[[1. 2.]\n",
            " [3. 4.]]\n",
            "\n",
            "[[0. 1.]\n",
            " [1. 0.]]\n"
          ]
        }
      ]
    },
    {
      "cell_type": "code",
      "metadata": {
        "colab": {
          "base_uri": "https://localhost:8080/"
        },
        "id": "ufEIv7MfCKD0",
        "outputId": "bec8261f-b2bf-4f59-e86a-945b9ccb0c38"
      },
      "source": [
        "# Iloczyn element-wise\n",
        "c = a * b\n",
        "print(c)"
      ],
      "execution_count": 5,
      "outputs": [
        {
          "output_type": "stream",
          "name": "stdout",
          "text": [
            "[[0. 2.]\n",
            " [3. 0.]]\n"
          ]
        }
      ]
    },
    {
      "cell_type": "code",
      "metadata": {
        "colab": {
          "base_uri": "https://localhost:8080/"
        },
        "id": "lPL9olV9CnyQ",
        "outputId": "c16edea8-c9d7-42d2-b285-bc1f30280769"
      },
      "source": [
        "# Mnożenie macierzy (dwa alternatywne zapisy)\n",
        "print(a @ b)\n",
        "print()\n",
        "print(np.matmul(a, b))"
      ],
      "execution_count": 6,
      "outputs": [
        {
          "output_type": "stream",
          "name": "stdout",
          "text": [
            "[[2. 1.]\n",
            " [4. 3.]]\n",
            "\n",
            "[[2. 1.]\n",
            " [4. 3.]]\n"
          ]
        }
      ]
    },
    {
      "cell_type": "code",
      "metadata": {
        "colab": {
          "base_uri": "https://localhost:8080/"
        },
        "id": "HRYsO_WQDF6D",
        "outputId": "9b20e3f6-bc0f-4535-82be-759c1d50a982"
      },
      "source": [
        "# Zastosowanie operacji skalarnej do każdego elementu\n",
        "print(np.exp(a))\n",
        "print()\n",
        "print(np.log(a))"
      ],
      "execution_count": 8,
      "outputs": [
        {
          "output_type": "stream",
          "name": "stdout",
          "text": [
            "[[ 2.71828183  7.3890561 ]\n",
            " [20.08553692 54.59815003]]\n",
            "\n",
            "[[0.         0.69314718]\n",
            " [1.09861229 1.38629436]]\n"
          ]
        }
      ]
    },
    {
      "cell_type": "code",
      "metadata": {
        "colab": {
          "base_uri": "https://localhost:8080/"
        },
        "id": "Fc_sPKbBwI5X",
        "outputId": "5767d015-fb1c-4066-ec27-7edc048ad136"
      },
      "source": [
        "print(a)\n",
        "print()\n",
        "print(np.sum(a))  # suma całej tablicy\n",
        "print()\n",
        "print(np.sum(a, axis=1))  # sumujemy wzdłuż wybranego wymiaru"
      ],
      "execution_count": 7,
      "outputs": [
        {
          "output_type": "stream",
          "name": "stdout",
          "text": [
            "[[1. 2.]\n",
            " [3. 4.]]\n",
            "\n",
            "10.0\n",
            "\n",
            "[3. 7.]\n"
          ]
        }
      ]
    },
    {
      "cell_type": "code",
      "metadata": {
        "colab": {
          "base_uri": "https://localhost:8080/"
        },
        "id": "UVjfN2CiHV0y",
        "outputId": "8ce3f2ba-1042-4118-f098-6d9384d4d1a4"
      },
      "source": [
        "x = np.arange(16)  # wektor wypełniony kolejnymi liczbami od 0 do 15\n",
        "print('x = ', x)"
      ],
      "execution_count": 9,
      "outputs": [
        {
          "output_type": "stream",
          "name": "stdout",
          "text": [
            "x =  [ 0  1  2  3  4  5  6  7  8  9 10 11 12 13 14 15]\n"
          ]
        }
      ]
    },
    {
      "cell_type": "code",
      "metadata": {
        "colab": {
          "base_uri": "https://localhost:8080/"
        },
        "id": "WWd9WGr8ILiI",
        "outputId": "91b6671d-a2ed-4e42-8faf-4007b85364c3"
      },
      "source": [
        "x = x.reshape((2, 4, 2))  # zmieniamy wymiar tablicy\n",
        "print('x = ', x)"
      ],
      "execution_count": 10,
      "outputs": [
        {
          "output_type": "stream",
          "name": "stdout",
          "text": [
            "x =  [[[ 0  1]\n",
            "  [ 2  3]\n",
            "  [ 4  5]\n",
            "  [ 6  7]]\n",
            "\n",
            " [[ 8  9]\n",
            "  [10 11]\n",
            "  [12 13]\n",
            "  [14 15]]]\n"
          ]
        }
      ]
    },
    {
      "cell_type": "code",
      "metadata": {
        "colab": {
          "base_uri": "https://localhost:8080/"
        },
        "id": "o7BIsxoEIOBm",
        "outputId": "f585f02e-b809-4fd7-b509-9506a5ef2b36"
      },
      "source": [
        "print(x[0][1][1])  # dostęp do konkretnego elementu"
      ],
      "execution_count": 11,
      "outputs": [
        {
          "output_type": "stream",
          "name": "stdout",
          "text": [
            "3\n"
          ]
        }
      ]
    },
    {
      "cell_type": "code",
      "metadata": {
        "colab": {
          "base_uri": "https://localhost:8080/"
        },
        "id": "Jvru2WPXSDGL",
        "outputId": "ca370dcb-ebcd-49bb-c00f-4e1dca10eba6"
      },
      "source": [
        "y = x[:, 1:2, 0:1]\n",
        "print(y)  # widok na podtablicę"
      ],
      "execution_count": 12,
      "outputs": [
        {
          "output_type": "stream",
          "name": "stdout",
          "text": [
            "[[[ 2]]\n",
            "\n",
            " [[10]]]\n"
          ]
        }
      ]
    },
    {
      "cell_type": "code",
      "metadata": {
        "colab": {
          "base_uri": "https://localhost:8080/"
        },
        "id": "cM3S-3IQSb1Y",
        "outputId": "d6e751c5-1f7b-4d0a-9f32-a87fb13c01a4"
      },
      "source": [
        "y[:] = 1000  # modyfikacja y. W każde miejsce wpisujemy liczbę 1000\n",
        "# UWAGA: Ponieważ y było widokiem na tablicę x, zmodyfikowaliśmy przy okazji x!\n",
        "print('x = ', x)"
      ],
      "execution_count": 13,
      "outputs": [
        {
          "output_type": "stream",
          "name": "stdout",
          "text": [
            "x =  [[[   0    1]\n",
            "  [1000    3]\n",
            "  [   4    5]\n",
            "  [   6    7]]\n",
            "\n",
            " [[   8    9]\n",
            "  [1000   11]\n",
            "  [  12   13]\n",
            "  [  14   15]]]\n"
          ]
        }
      ]
    },
    {
      "cell_type": "code",
      "metadata": {
        "colab": {
          "base_uri": "https://localhost:8080/"
        },
        "id": "BpcXORTLqjeE",
        "outputId": "6ca43e12-476a-445b-ded5-aad88ba3f0ee"
      },
      "source": [
        "# Jeśli chcemy uniknąć sytuacji jak w poprzedniej komórce, możemy skopiować dane:\n",
        "z = x[:, 2:3, 0:1].copy()\n",
        "z[:] = 2000\n",
        "print(z.shape)\n",
        "print(z)\n",
        "print(x)"
      ],
      "execution_count": 14,
      "outputs": [
        {
          "output_type": "stream",
          "name": "stdout",
          "text": [
            "(2, 1, 1)\n",
            "[[[2000]]\n",
            "\n",
            " [[2000]]]\n",
            "[[[   0    1]\n",
            "  [1000    3]\n",
            "  [   4    5]\n",
            "  [   6    7]]\n",
            "\n",
            " [[   8    9]\n",
            "  [1000   11]\n",
            "  [  12   13]\n",
            "  [  14   15]]]\n"
          ]
        }
      ]
    },
    {
      "cell_type": "code",
      "metadata": {
        "colab": {
          "base_uri": "https://localhost:8080/"
        },
        "id": "6pa_ce6fS8um",
        "outputId": "9ff5ce18-2793-490a-df25-d49935ca8b02"
      },
      "source": [
        "print('x shape =', x.shape)\n",
        "print('x size =', x.size)\n",
        "print('x type = ', x.dtype)"
      ],
      "execution_count": 16,
      "outputs": [
        {
          "output_type": "stream",
          "name": "stdout",
          "text": [
            "x shape = (2, 4, 2)\n",
            "x size = 16\n",
            "x type =  int64\n"
          ]
        }
      ]
    },
    {
      "cell_type": "code",
      "metadata": {
        "colab": {
          "base_uri": "https://localhost:8080/"
        },
        "id": "exd1Qq7Pta5a",
        "outputId": "d9f3bd12-2b3d-4167-d691-e376da650a14"
      },
      "source": [
        "# Broadcasting\n",
        "# Tutaj bardziej dogłębne omówienie tematu: https://numpy.org/devdocs/user/theory.broadcasting.html\n",
        "a = np.array([[1, 2], [3, 4]])  # shape: 2x2\n",
        "b = np.array([[10, 20]])  # shape: 1x2\n",
        "print(a * b)  # Operacja poprawna, mimo niezgodnych wymiarów. Wymiar, gdzie mamy 1, zostaje \"rozciągnięty\" by się dopasować\n",
        "# \"Rozciągnięcie\" polega na (wirtualnym) skopiowaniu tablicy wzdłuż tego wymiaru, by dopasować się do odpowiedniej wielkości (w tym wypadku 2)"
      ],
      "execution_count": 15,
      "outputs": [
        {
          "output_type": "stream",
          "name": "stdout",
          "text": [
            "[[10 40]\n",
            " [30 80]]\n"
          ]
        }
      ]
    },
    {
      "cell_type": "markdown",
      "metadata": {
        "id": "lgOBiMPsTqeX"
      },
      "source": [
        "Polecam zapoznanie się z większą liczbą przykładów w [quickstarcie](https://numpy.org/doc/stable/user/quickstart.html)."
      ]
    },
    {
      "cell_type": "markdown",
      "metadata": {
        "id": "qM8_TZ0oUHV1"
      },
      "source": [
        "## Zadania"
      ]
    },
    {
      "cell_type": "markdown",
      "metadata": {
        "id": "kVvQjlWkZNj-"
      },
      "source": [
        "W poniższych dwóch zadaniach proszę o implementacje zwektoryzowane. **Zabronione jest korzystanie z pythonowych pętli!** Zamiast tego można używać mnożenia macierzy, funkcji typu [np.sum](https://numpy.org/doc/stable/reference/generated/numpy.sum.html) itp."
      ]
    },
    {
      "cell_type": "markdown",
      "metadata": {
        "id": "h9Mc66C7Wpeo"
      },
      "source": [
        "**Zadanie 1.** Proszę napisać funkcję, która dla danej macierzy X zwróci wersję tej macierzy, gdzie wiersze są znormalizowane względem normy L1, tzn.:\n",
        "\n",
        "![equation.png](data:image/png;base64,iVBORw0KGgoAAAANSUhEUgAAAJAAAAAxCAYAAAA1BiDzAAAACXBIWXMAAA7EAAAOxAGVKw4bAAAHUklEQVR42u1caYwURRj9WFZudBUQuVxAIRI1LIogQZZb8YQQEX6ggHIfIeBBBBRRkCVyqUTwAjyIqPFCY6IQJUGNJCh4AkEUr6gxgkYiGg/8XvpNpra2e86dnZ7peslLZrqnd7urXtV31Fct4pBLVCg3K4+Qu5TDjPNNle8p/1V+qHxceZprNgcbNytPKK/yOTdLuUxZ6prJIQhlyt+Vr1vHByinu+ZxSAUP0VR15fcLlXNdszikim7K/5T3K7so73BN4pAu3lT+plyirOeawyFdjKYzPcM1hUO6OFW5WnlYuS+FGehkZQuf4yXKDq45o4UmypXK5sp5nIWGJrmmSjnR5/gQ5RbXpNFBQ+UqiScIMav8odzqmsYhGepz5jnTOv4YQ/rOAdf1DjjXQ7zstkME0EC5RuJ5HxMVNGMrfM6NFC9H9IXyJOP4eGUf5YvKvq55ixdY3xqkfEf5DGchG+cojyp/5azSwDg3SlmuPGgcg/kbzs/b6AeFCkvptMW4POB34xhJVHH0lDm91MBtVlvaJud06zx4g/WbxaTfrHaUIg0VSql8TKubA0ZNLJr4VjlJ3KpxLv2mr5WdaMpMXMKZLbTYx5svCTg/W3mR6+OcAj7THvHyRtdb5xaKl8UOLeZzFhrkc+5a5ZWuf3MODN65dJptS7A9jP6PiXbKf5RPWMcrlTe6vs0LzlW2p8vwpXh5pVADXv4x8bKmAFaRb3H9mDe8xPZ/MuyzTwxjacYQcbVihJaLleNyOompsiKBc1/MKOUs1KhQbhiRFkoO3hUvBd8wh0KtSoMQ8iluQioMvCpeEXiLBL+ZqbzO5zjS8CvydN/lTDE41g37B3UEnLVNSTqrJ02cjbbK7nkU0GTHOuMAv05oTx9oQo47e3SaJuxu8WpkHArEie4UcB5R2RTlwz7hJo5vkNSy1B3TdKIvKEIn+upi9Ouwue37BOdRjtlM+ZMRnWFt5nZ+flmqb55zqIkx4u0VQ7DStVgeCk7RU8ofxVvOwDaUPj6/O0O8pKLpIyFn1JiCwvWtnUZSwnfFJKB0gO24lRSNbcY+K8LnxQo6NgB24QAax+9NnYDSR2fOUPXoiduh/do83x+q/35mGmJ3EmI/+iGJ712P8bCV/5rByHIfZ+oSPuviOhIQAo5rQtL/CGbOzuYPYARiuWOO1Nwd8Lx4i65h8OMQCExN8fdlDEnvov+Ha0ca5/uzE7cZxxZJ9c2BcPJHJWC/LAQ0PUFUjD5Yx6DmPuWDDIRMrOL5lRzg2QhgPZ81K5RKzZKP+mz8ViEQEEzLfvGK189L81oECBsZDJhYJ9X3se+w8iAw30MSsGeOBCQSL9w/wWDGXnqqpG86WuJrnHkVkIlNDEencwSEBSgV/VP5qY+vlgzogGeVLY1jn1MkQFt2PgbNZXVgwpIJSDhwjytf8BnsayS4gD/vAsIrS26iusO2XXc2R+X6DK5FHuxSw4n+wXg+jOjnaNp6Z+iU92UYPyGFzk1FQMKZE+U45fwOK3Gv1NwVEioBhRno8FcoojFZ/B2YtYHWsRHKizP8e+db5q2ylgTUg88aq2lHgWC3Wm7TSAkoNrXDN0MxescCfYZUBQSgZvoXiicXHR05AcWiKEztO6Uw3wSWjoBiL3CYn6N7iaSAgGVs2MVFLqDxnG33ZvB/WjBabOcEVBPY5fk+Z6J+RSogJBtRo7WIgyXZcyIAWmh876U8IP7vcoy8gGK5muMBOZlCF9BQ4zdI9v7FSDEROlsRYH36T2VOQP7YwJRDppHThCwiLxuNa1FAuKdZ1rGnlX+LV9+VKrDnb7fzgfyBnQ2rs7geNU5v00nNBsgvrWFa4R7xkrDZCKiCJstPVDBjSwIi09kUWROrjZDRRv5oLP3GkU5AXq7ljSwjMOSUkExsm+W97JTqxXq7JPnyT5CA4Ktsk+AE7sfi1W3Zs91UiuSg5TC/RmFPE29nLPyj4VEX0FnKDyTxBoEgmFtpkJDbb3xvLuln3svpY9imZmKaAprJzoY4vlFebv0eAwXvOPhKvGqD7VZYj0x4b4rX9H8Qve2QxO8gipSAmrGRMnngodbow6jFijYWLlHGstxICfSVxAupQyjgQexUE2sl+G0omYTxqeJRPlNsdkJggfIWrP9tlfiKfqOoCgizAxYWR2VwbUs6k2ZN0BY6qlN5fITE3yEwTBKXcoCtaXIOWf/rAfFW+utSQJihjtBMTfHxERco7xTvPUaDoyogOJZLM7iuPzt5o4//8xbNTaabLQeIV4xnAqXDK+tYQCV8lmlGSgPlzLHFY7xGBu9HmONjpiMhIJiejxiWJtrp0YvmBa9RqeKsc4I0yzQwEg/wM8xWrGylndHB85IQ5bAo/jpm3SuK8MblwYTF/B5zkNgii6QPBOd2L2eRTLnHithgth7h50mc6rsYImsj8aRcEGPvO4ST2t3owE+ket2RHxBKXxGS9l0gtVdbFBncKvE3Y7Sh3zJZMqt/6kABjmeeZWAhN8z/UczFvhymxXYAAAAASUVORK5CYII=)\n",
        ", gdzie X to macierz wejściowa o wymiarach (m, n), a Y to macierz wynikowa.\n",
        "\n",
        "Można zignorować sytuację, gdzie w mianowniku wyjdzie 0, tzn. wtedy w wyniku pojawią się wartości `nan` i to jest OK.\n",
        "\n",
        "Przypominam, że zabronione jest korzystanie z pythonowych pętli."
      ]
    },
    {
      "cell_type": "code",
      "metadata": {
        "id": "rFR4hMugUKT4"
      },
      "source": [
        "def normalize_rows(x):\n",
        "    sum = np.sum(np.abs(x))\n",
        "    return x / sum"
      ],
      "execution_count": 17,
      "outputs": []
    },
    {
      "cell_type": "code",
      "source": [
        "x = np.arange(16)\n",
        "print(x)\n",
        "x = normalize_rows(x)\n",
        "print(x)"
      ],
      "metadata": {
        "id": "HaTecXKUKkxu",
        "outputId": "e1b0ee48-7bdf-4e06-ae3e-085d7df0f381",
        "colab": {
          "base_uri": "https://localhost:8080/"
        }
      },
      "execution_count": 18,
      "outputs": [
        {
          "output_type": "stream",
          "name": "stdout",
          "text": [
            "[ 0  1  2  3  4  5  6  7  8  9 10 11 12 13 14 15]\n",
            "[0.         0.00833333 0.01666667 0.025      0.03333333 0.04166667\n",
            " 0.05       0.05833333 0.06666667 0.075      0.08333333 0.09166667\n",
            " 0.1        0.10833333 0.11666667 0.125     ]\n"
          ]
        }
      ]
    },
    {
      "cell_type": "markdown",
      "metadata": {
        "id": "q7jfFQBQZ5ZE"
      },
      "source": [
        "**Zadanie 2.** Proszę napisać funkcję, która dla macierzy X o wymiarach (m, n) zwróci macierz Y o wymiarach (m, m) taką, że w polu (i, j) znajduje się odległość Euklidesowa pomiędzy n-wymiarowymi punktami z wierszy odpowiednio i, j w macierzy X, tzn.:\n",
        "![equation.png](data:image/png;base64,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)\n",
        "\n",
        "Przypominam, że zabronione jest korzystanie z pythonowych pętli."
      ]
    },
    {
      "cell_type": "code",
      "metadata": {
        "id": "MIj0RC0uZ4Si"
      },
      "source": [
        "def euclidean_distance_matrix(A):\n",
        "    # Expand the dimensions of A to compute the difference (A[i,k] - A[j,k])\n",
        "    diff = A[:, np.newaxis, :] - A[np.newaxis, :, :]\n",
        "\n",
        "    # Square the differences\n",
        "    squared_diff = diff ** 2\n",
        "\n",
        "    # Sum over the last axis (which corresponds to the summation over k)\n",
        "    dist_matrix = np.sum(squared_diff, axis=-1)\n",
        "\n",
        "    # Take the square root to get the Euclidean distance\n",
        "    return np.sqrt(dist_matrix)"
      ],
      "execution_count": null,
      "outputs": []
    },
    {
      "cell_type": "code",
      "source": [
        "x = np.array([\n",
        "    [0,0],\n",
        "    [1,1],\n",
        "    [2,2],\n",
        "    [1,2],\n",
        "    [2,1]\n",
        "])\n",
        "print(x)\n",
        "x = euclidean_distance_matrix(x)\n",
        "print(x)"
      ],
      "metadata": {
        "id": "gOQ1xBBZM8N6"
      },
      "execution_count": null,
      "outputs": []
    },
    {
      "cell_type": "markdown",
      "metadata": {
        "id": "Zsa_AZfTyFb1"
      },
      "source": [
        "# Gradient descent"
      ]
    },
    {
      "cell_type": "markdown",
      "metadata": {
        "id": "4EDm1pVBTYcJ"
      },
      "source": [
        "Gradient descent to algorytm numeryczny, który znajduje minimum lokalne zadanej funkcji celu.\n",
        "\n",
        "Początkowo inicjalizujemy losowo wartość, którą będziemy optymalizować (argument zadanej funkcji). Następnie w każdym kroku znajdujemy najlepszy kierunek, w którym można się poruszyć - ten kierunek jest wyznaczony przez gradient. Po jego wyznaczeniu wykonujemy małe przesunięcie w tym kierunku:\n",
        "\n",
        "![gd_formula.png](data:image/png;base64,iVBORw0KGgoAAAANSUhEUgAAAIYAAAARCAYAAAAYGtRqAAAABmJLR0QA/wD/AP+gvaeTAAAEuklEQVRoge3Za4hVVRQH8N+Mk49qxNdoL8lKw8weUllZqUnmp6ikh1IfisL8kBn0hkCpLLIX0UutUIJKsCwzqCiIGqJ8EFkRBBUVWlLiIyUjc+zD2tM9nTn33pnxTkXcP1zOPmuvvc7aa6+19tr7UkcddfzvMABjayBnYp7QVAOhdRRjNC7sBN9GPJ95vxKHl+H9BU+ldl88juu7q2AGvXArFrYTGmogtI5iNONb7MWGRNuOfegvFuNIPIonMuOOw/04FlckWhOm4HKcnGj3YC1eq5G+T+NZfFQjeXVUwHzhDAPK9K9AvwL6p8Jh8nghPZvxudoG9glY3f7SmOs4H2crVva/ipFC70nKL0BPohGHlel7JD2L0v0UrMHuHH2IqBveTe+jcHpqf5KeF+E9kX2yGCVsMVHXbfGZ8IHmLHE5dqUJrMQ2TO2i4O6iGUdX+Q0qM/ZuYZybRSrcjat7WN8szsMPSYelidaAhzM892GLnMHxUgENpqMNx+AQvJjaWRTVFgvSuJvwjLDFVZ2eSWCVtO7txWcLvhN73WLsFEZ/u4uC82jBcHxcgWcMJleRswFvFtCHYquSzhPxgNIi9SSOxA2YJhbhUZwhFvOtDN8jmIPr8GCinSWif2eB3En4URSDg0W2+DrHM1xkjCyyttiV5CzEsi7M6eck+y/HuEQUNsuEFzeKAqmzOBMf5mjTRfG0TmXHWJN+3cGNaBXGHyQcsSgKq2Ekrq3Q34Z52JOhteAaYUypPQcHJ73a8ROWiKz2JH7FXMwq861zRTaZK9ZhUQFPf5HVs5iL94WDDhRb0oEV5lSEnWmsJuHh64SXXSb2mh1K9UcfUSF/gVOF927JCRyjo2OsFF5cba87GeOr8HypY4QcICroQ3Fp6l+Pcam/QeyZ7XvnVnE0LMJXuL2KDnmsz71vxjki9ef3/oWYLZyhVdhye4HMFlFfzMvQ7izg+0VawITeIriGiiBvFcHYfsfRmNqf4USxfpsK5DaLtdckDHkEHkoDh4gzcq/EfDUmiPS2HC+LNJXF/lTH34iJVsKOAtoIMclVwin6CMMQus9M/cNEpK4QKbxtP3Sthgalk0MWm8VR8BZhy9llxk9Oz9b0bBMZJ4+NSnOFo8TCv5LGZm3RKDL3SWJrWiQy0gQdHXiIqJkQkbdULM5KPCfS0RZxTh6Bd9KHhint9eNFBMxKY9rbMzIfmq3rkdgVLBDp73XhtPeISNgk7gMWCQM06hjhPYHFFfqG4zehcx69hPOuFfN5VTh2OczAY5n3BlHkZm2xQCzyJnHZtkTUQJVs8b3IWh2U613A3Fvp0mMmbhNGz6Lc/jwbd5TpqxUaRIYrwhrh+KeIiB3dg3qMxV1VeC7w9y2guxiodGmWRSVbrBU7xGniBJe3xRiZojl7j7EXvxcIHIcPUnt0+vCwKooTRdQkUZhO6wR/d7FPRGIeg0UK3yP03qU2/yuUw1Rh/EpYrWPR2B1swxs6XimUs0WLyB5/iKDeheNzPHNFxu00+olKm8gegwt4Li6gHSQ8e2Bm/D+JXkr3Hw3KX0LVCvN1/RSwP+grsmBnTmFNSrYoupCbjHtrplkd/zoGKZ3C9gfT1P83q6Mz+BMwZert2PHg6gAAAABJRU5ErkJggg==),\n",
        "\n",
        "gdzie a_n oznacza optymalizowaną wartość w n-tym kroku, ![gamma.png](data:image/png;base64,iVBORw0KGgoAAAANSUhEUgAAAAsAAAANCAYAAAB/9ZQ7AAAACXBIWXMAAA7EAAAOxAGVKw4bAAAAgUlEQVQoz2NgQAA/IL4CxJ+BeC0Q8zGggkBkxhkgzgLiWCBeD8RzkBQaArETiMELxDOAmAXNpNlALAhl18EE7YFYlgETqANxNBArAnE8AxGgGIgLgZidWMVZDESCLUCsRqziOcQq5ADiFmIVuwFxErGKe4BYg1jF64CYkVjFregCABg2EE/RwHmnAAAAAElFTkSuQmCC) oznacza *learning rate*, który wyznacza wielkość kroku, a F jest zadaną funkcją kosztu.\n",
        "\n",
        "![gd.jpeg](data:image/jpeg;base64,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)"
      ]
    },
    {
      "cell_type": "markdown",
      "metadata": {
        "id": "MUQkppg13U7V"
      },
      "source": [
        "## Przykład"
      ]
    },
    {
      "cell_type": "markdown",
      "metadata": {
        "id": "Tg3H0fax1Gi0"
      },
      "source": [
        "Niech `F(x, y) := (x - 2) ** 2 + y ** 2`. Z postaci tej funkcji widzimy że minimum jest w punkcie `x = 2, y = 0`; sprawdźmy, czy gradient descent je znajdzie.\n",
        "\n",
        "Policzmy pochodne:\n",
        "\n",
        "![dfdx.png](data:image/png;base64,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)\n",
        "\n",
        "![dfdy.png](data:image/png;base64,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)"
      ]
    },
    {
      "cell_type": "code",
      "metadata": {
        "colab": {
          "base_uri": "https://localhost:8080/"
        },
        "id": "YyipdOVB3itN",
        "outputId": "8d2ad0c2-323f-4ced-f2cf-ff7891913edf"
      },
      "source": [
        "x, y = np.random.normal(), np.random.normal()\n",
        "print(f'Initialization: x={x}, y={y}')\n",
        "lr = 0.2\n",
        "num_steps = 10\n",
        "\n",
        "for _ in range(num_steps):\n",
        "    df_dx = 2 * x - 4\n",
        "    df_dy = 2 * y\n",
        "    x -= lr * df_dx\n",
        "    y -= lr * df_dy\n",
        "\n",
        "print(f'After gradient descent: x={x}, y={y}')"
      ],
      "execution_count": 19,
      "outputs": [
        {
          "output_type": "stream",
          "name": "stdout",
          "text": [
            "Initialization: x=-1.9736505329637206, y=-1.3132370458434623\n",
            "After gradient descent: x=1.9759728547511322, y=-0.007940642234369084\n"
          ]
        }
      ]
    },
    {
      "cell_type": "markdown",
      "metadata": {
        "id": "BhQkJXvN6BWq"
      },
      "source": [
        "## Zadanie"
      ]
    },
    {
      "cell_type": "markdown",
      "metadata": {
        "id": "IbirWqWY6F2U"
      },
      "source": [
        "**Zadanie 3.** Proszę zaimplementować funkcję `gradient_descent`, która wykona procedurę gradient descent przy założeniu że:\n",
        "* mamy pewną funkcję `f`, która przyjmuje numpy'owską tablicę liczb `x`, a zwraca skalar;\n",
        "* mamy funkcję `grad_f`, która liczy gradient z `f` po `x`; `grad_f` jest dostarczana jako argument funkcji `gradient_descent`;\n",
        "* `x_initial` oznacza początkową wartość, od której zaczynamy proces optymalizacji. Jest to tablica numpy'owska (być może wielowymiarowa). Wynik optymalizacji powinien mieć taki sam kształt."
      ]
    },
    {
      "cell_type": "code",
      "metadata": {
        "colab": {
          "base_uri": "https://localhost:8080/"
        },
        "id": "y8IGatNV6EzE",
        "outputId": "54679392-f44a-4464-c487-4c72acc2f86a"
      },
      "source": [
        "def gradient_descent(initial_x, grad_f, learning_rate, num_steps):\n",
        "\n",
        "    x = initial_x\n",
        "\n",
        "    for _ in range(num_steps):\n",
        "        gradient = grad_f(x) * learning_rate\n",
        "        x = x - gradient\n",
        "    return x\n",
        "\n",
        "# Przykładowa funkcja f jako prosty test implementacji\n",
        "def f(x):\n",
        "    return np.sum(x ** 2 - x)\n",
        "\n",
        "def grad_f(x):\n",
        "    return 2 * x - 1.\n",
        "\n",
        "x_shape = (3, 3)\n",
        "initial_x = np.random.normal(size=x_shape)\n",
        "x_final = gradient_descent(initial_x, grad_f, 0.1, 100)\n",
        "value_final = f(x_final)\n",
        "print(f\"After GD: x={x_final}, value={value_final}\")"
      ],
      "execution_count": 20,
      "outputs": [
        {
          "output_type": "stream",
          "name": "stdout",
          "text": [
            "After GD: x=[[0.5 0.5 0.5]\n",
            " [0.5 0.5 0.5]\n",
            " [0.5 0.5 0.5]], value=-2.25\n"
          ]
        }
      ]
    },
    {
      "cell_type": "markdown",
      "metadata": {
        "id": "JHo6q4hzTVdL"
      },
      "source": []
    },
    {
      "cell_type": "markdown",
      "metadata": {
        "id": "ln5A39snBYqC"
      },
      "source": [
        "# Regresja liniowa"
      ]
    },
    {
      "cell_type": "markdown",
      "metadata": {
        "id": "R7ReaNgSDQZc"
      },
      "source": [
        "Regresja liniowa to technika w **uczeniu nadzorowanym (supervised learning)**, w której chcemy za pomocą modelu liniowego wyjaśnić pewną zmienną `y` za pomocą obserwacji `x_1, x_2, ... , x_n`. Przyjmujemy więc, że w przybliżeniu będzie zachodziła zależność\n",
        "![regr.png](data:image/png;base64,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)\n",
        "\n",
        "i chcemy znaleźć odpowiednie (pasujące do danych, które mamy) wartości `a_1, a_2 ..., a_n, b`. Te liczby to *parametry* naszego modelu.\n",
        "\n",
        "Optymalne wartości `a, b` można znaleźć za pomocą wzoru analitycznego (patrz wykład), jednak my zrobimy to z pomocą gradient descent.\n",
        "\n",
        "Załóżmy, że mamy zbiór danych złożony z macierzy `X` i `y`. `X` ma wymiary (m, n) - każdy wiersz to jeden n-wymiarowy punkt danych. `y` ma wymiary (m, 1) - dla każdego punktu danych mamy wynikowy skalar. Oznaczmy przez `A` wektor zawierający wartości `a_1, a_2, ..., a_n`. Wówczas predykcja (odpowiedź) naszego modelu wyraża się jako `y_pred = XA + b`.\n",
        "\n",
        "Chcemy, by `y_pred` (predykcja) było jak najbliżej `y` (wartościom z danych). Możemy to wyrazić za pomocą **błędu średniokwadratowego (mean squared error)**:\n",
        "\n",
        "`loss = np.mean((y - y_pred) ** 2)`\n",
        "\n",
        "Zauważmy, że jeśli potraktujemy dane jako stałe, to `loss` możemy wyrazić jako funkcję od `A` i `b`. Możemy więc zastosować procedurę gradient descent i znaleźć takie wartości parametrów `A`, `b`, żeby funkcja kosztu (`loss`) była jak najmniejsza.\n",
        "\n",
        "![](https://i.imgur.com/Qg56kv8.png)"
      ]
    },
    {
      "cell_type": "markdown",
      "metadata": {
        "id": "c8PGCLJHNIO-"
      },
      "source": [
        "## Zadanie"
      ]
    },
    {
      "cell_type": "markdown",
      "metadata": {
        "id": "tIJrmXu0NLji"
      },
      "source": [
        "**Zadanie 4.** Proszę zaimplementować regresję liniową przy pomocy gradient descent (można wykorzystać funkcję z zadania 3). Wejście i wyjście jest opisane poniżej w sygnaturze funkcji i komentarzu.\n",
        "\n",
        "*Pomoc do zadania*: [slajdy z ćwiczeń](https://docs.google.com/presentation/d/1EZE8jXE6laxhIkl10kYjB53IP91l_ekoAkms0NtD0G4/edit?usp=sharing)"
      ]
    },
    {
      "cell_type": "code",
      "metadata": {
        "colab": {
          "base_uri": "https://localhost:8080/"
        },
        "id": "1qq-HgblNKSf",
        "outputId": "6497f727-e6b0-4333-9829-c3371e1d787d"
      },
      "source": [
        "def get_linear_regression_weights(x, y):\n",
        "\n",
        "    def grad_a(x, y, a, b):\n",
        "        return (2 * np.transpose(x @ a + b - y) @ x) / x.shape[0]\n",
        "\n",
        "    def grad_b(x, y, a, b):\n",
        "        return 2 * np.mean(x @ a + b - y)\n",
        "\n",
        "    a = np.random.normal(size=(3,1))\n",
        "    b = np.random.normal(loc=0.0, scale=1.0)\n",
        "\n",
        "    learning_rate = 0.01\n",
        "    num_epochs = 1000\n",
        "\n",
        "    print(f\"Initial a: {a}\")\n",
        "    print(f\"Initial b: {b}\\n\")\n",
        "\n",
        "    for epoch in range(num_epochs):\n",
        "\n",
        "        if epoch+1%50 == 0:\n",
        "            print(f\"Epoch {epoch+1}: a = {a}, b = {b}\")\n",
        "\n",
        "        gradient_a = grad_a(x, y, a, b) * learning_rate\n",
        "        gradient_b = grad_b(x, y, a, b) * learning_rate\n",
        "\n",
        "        a = a - gradient_a.reshape(3,1)\n",
        "        b = b - gradient_b\n",
        "\n",
        "    return a, b\n",
        "\n",
        "\n",
        "# Sztuczne dane do przetestowania implementacji\n",
        "x = np.random.normal(size=(500, 3))\n",
        "a_gt = np.array([3., 6., 2.]).reshape((3, 1))\n",
        "b_gt = 0.7\n",
        "y = x @ a_gt + b_gt + np.random.normal(scale=0.1, size=(500, 1))\n",
        "\n",
        "# Dzielimy dane na trening i walidację\n",
        "x_train, x_val = x[:400], x[400:]\n",
        "y_train, y_val = y[:400], y[400:]\n",
        "\n",
        "def loss(y, y_pred):\n",
        "    return np.mean((y - y_pred) ** 2)\n",
        "\n",
        "a, b = get_linear_regression_weights(x, y)\n",
        "assert tuple(a.shape) == (x.shape[1], 1)\n",
        "y_train_pred = x_train @ a + b\n",
        "y_val_pred = x_val @ a + b\n",
        "train_loss = loss(y_train, y_train_pred)\n",
        "val_loss = loss(y_val, y_val_pred)\n",
        "\n",
        "# Jeśli implementacja jest poprawna, a_gt powinno być blisko a, b_gt blisko b.\n",
        "print(f\"a_gt={a_gt}, \\na={a}, \\nb_gt={b_gt}, \\nb={b}\\n\")\n",
        "print(f\"training loss = {train_loss}\")\n",
        "print(f\"validation loss = {val_loss}\")"
      ],
      "execution_count": 41,
      "outputs": [
        {
          "output_type": "stream",
          "name": "stdout",
          "text": [
            "Initial a: [[-1.47456119]\n",
            " [-0.81321567]\n",
            " [ 1.00577534]]\n",
            "Initial b: -0.73941014048061\n",
            "\n",
            "a_gt=[[3.]\n",
            " [6.]\n",
            " [2.]], \n",
            "a=[[3.00110052]\n",
            " [5.9973591 ]\n",
            " [2.00112818]], \n",
            "b_gt=0.7, \n",
            "b=0.7006088001029928\n",
            "\n",
            "training loss = 0.009760498655310857\n",
            "validation loss = 0.013159196227906522\n"
          ]
        }
      ]
    }
  ]
}